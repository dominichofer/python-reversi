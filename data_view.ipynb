{
 "cells": [
  {
   "cell_type": "code",
   "execution_count": null,
   "metadata": {},
   "outputs": [],
   "source": [
    "import os\n",
    "from collections import defaultdict\n",
    "from reversi import *\n",
    "\n",
    "def undefined_score_count(games) -> dict:\n",
    "    hist = defaultdict(int)\n",
    "    for scored_pos in scored_positions(games):\n",
    "        if not scored_pos.is_score_defined():\n",
    "            hist[scored_pos.empty_count()] += 1\n",
    "    return hist\n",
    "\n",
    "def lowest_non_zero(hist: dict) -> int | None:\n",
    "    for empty_count, count in sorted(hist.items()):\n",
    "        if count > 0:\n",
    "            return empty_count\n",
    "    return None\n",
    "\n",
    "# All files ending in \".gs\" in the \"data\" directory\n",
    "files = [f for f in os.listdir(\"data\") if f.endswith(\".gs\")]\n",
    "\n",
    "for file_name in files:\n",
    "    file = os.path.join(\"data\", file_name)\n",
    "    games = read_file(file)\n",
    "    print(f\"file '{file_name}':\")\n",
    "    print(f\"\\tcontains {len(games)} games\")\n",
    "    hist = undefined_score_count(games)\n",
    "    lowest = lowest_non_zero(hist)\n",
    "    print(f\"\\tall positions below {lowest} empty fields have defined scores\")"
   ]
  }
 ],
 "metadata": {
  "kernelspec": {
   "display_name": ".venv",
   "language": "python",
   "name": "python3"
  },
  "language_info": {
   "codemirror_mode": {
    "name": "ipython",
    "version": 3
   },
   "file_extension": ".py",
   "mimetype": "text/x-python",
   "name": "python",
   "nbconvert_exporter": "python",
   "pygments_lexer": "ipython3",
   "version": "3.12.1"
  }
 },
 "nbformat": 4,
 "nbformat_minor": 2
}
