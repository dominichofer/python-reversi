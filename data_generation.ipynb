{
 "cells": [
  {
   "cell_type": "code",
   "execution_count": null,
   "metadata": {},
   "outputs": [],
   "source": [
    "import os\n",
    "from reversi import *\n",
    "edax_path = r\"G:\\edax-ms-windows\\edax-4.4\"\n",
    "\n",
    "start_pos = unique_positions(children(Position.start(), plies=6))\n",
    "print(\"Number of positions:\", len(start_pos))"
   ]
  },
  {
   "cell_type": "code",
   "execution_count": null,
   "metadata": {},
   "outputs": [],
   "source": [
    "for level in [1, 5, 10, 15, 20]:\n",
    "    limitted_edax = Edax(edax_path, level=level, tasks=1, hash_table_size=16, multi_instance=True)\n",
    "    exact_edax = Edax(edax_path, level=60, tasks=1, multi_instance=True)\n",
    "\n",
    "    # self-play\n",
    "    games = played_games(limitted_edax, limitted_edax, start_pos)\n",
    "    scored_games = [ScoredGame(g) for g in games]\n",
    "    \n",
    "    # evaluate\n",
    "    pos = empty_count_range_filtered(positions(scored_games), 0, 30)\n",
    "    scores = {pos : result.window.lower for result in exact_edax.solve_many(pos)}\n",
    "    for sg in scored_games:\n",
    "        for i, pos in enumerate(positions(sg)):\n",
    "            if pos in scores:\n",
    "                sg.scores[i] = scores[pos]\n",
    "\n",
    "    file_path = os.path.join(\"data\", f\"Edax4.4_level_{level}_vs_Edax4.4_level_{level}_from_e54.gs\")\n",
    "    write_file(file_path, scored_games)"
   ]
  }
 ],
 "metadata": {
  "kernelspec": {
   "display_name": ".venv",
   "language": "python",
   "name": "python3"
  },
  "language_info": {
   "codemirror_mode": {
    "name": "ipython",
    "version": 3
   },
   "file_extension": ".py",
   "mimetype": "text/x-python",
   "name": "python",
   "nbconvert_exporter": "python",
   "pygments_lexer": "ipython3",
   "version": "3.10.0"
  }
 },
 "nbformat": 4,
 "nbformat_minor": 2
}
