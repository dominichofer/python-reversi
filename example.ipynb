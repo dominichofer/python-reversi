{
 "cells": [
  {
   "cell_type": "code",
   "execution_count": 9,
   "id": "e59d22f4",
   "metadata": {},
   "outputs": [
    {
     "name": "stdout",
     "output_type": "stream",
     "text": [
      "E6 F5 C4 D3\n"
     ]
    },
    {
     "data": {
      "image/jpeg": "[encoded data removed]",
      "image/png": "[encoded data removed]",
      "text/plain": [
       "<PIL.Image.Image image mode=RGB size=160x160>"
      ]
     },
     "execution_count": 9,
     "metadata": {},
     "output_type": "execute_result"
    }
   ],
   "source": [
    "from reversi import *\n",
    "pos = Position.start()\n",
    "print(possible_moves(pos))\n",
    "pos = play(pos, Field.D3)\n",
    "png(pos)"
   ]
  },
  {
   "cell_type": "code",
   "execution_count": 10,
   "id": "cf691a70",
   "metadata": {},
   "outputs": [
    {
     "name": "stdout",
     "output_type": "stream",
     "text": [
      "index: 1\n",
      "selectivity: 73%\n",
      "intensity: d15@1.1σ\n",
      "score: +00\n",
      "time: 0:00.000\n",
      "nodes: 135'764\n",
      "speed: ? N/s\n",
      "pv: E3 F4 C3 C4 D6 E6 C5\n",
      "best_move: E3\n",
      "search_result: [+00,+00] d15@1.1σ E3\n"
     ]
    }
   ],
   "source": [
    "# Edax is a bit tricky to install on Windows. You need to download the source code and compile it yourself.\n",
    "# With the location of the compiled executable, you can create an Edax object and use it to solve a position.\n",
    "edax_location = r\"G:\\edax-ms-windows\\edax-4.4\"\n",
    "edax = Edax(edax_location, level=15)\n",
    "print(edax.solve_native(pos))"
   ]
  },
  {
   "cell_type": "code",
   "execution_count": 11,
   "id": "7e3f8223",
   "metadata": {},
   "outputs": [
    {
     "name": "stdout",
     "output_type": "stream",
     "text": [
      "[+64,+64] d18@1.1σ C5\n"
     ]
    }
   ],
   "source": [
    "# Edax seamlessly integrates with the reversi library.\n",
    "# You can use it as an evaluation function in a search for example.\n",
    "def edax_at_depth_0(pos: Position, window: OpenInterval, intensity: Intensity) -> SearchResult | None:\n",
    "    if intensity.depth == 0:\n",
    "        return edax.solve(pos)\n",
    "    else:\n",
    "        return None\n",
    "\n",
    "tt = HashTable(1_000_000)\n",
    "pvs = PrincipalVariation(sorted_by_mobility_and_tt(tt), tt, [edax_at_depth_0])\n",
    "result = pvs.eval(pos, intensity=Intensity(3))\n",
    "print(result)"
   ]
  },
  {
   "cell_type": "code",
   "execution_count": 12,
   "id": "a5348240",
   "metadata": {},
   "outputs": [
    {
     "data": {
      "image/jpeg": "[encoded data removed]",
      "image/png": "[encoded data removed]",
      "text/plain": [
       "<PIL.Image.Image image mode=RGB size=160x160>"
      ]
     },
     "metadata": {},
     "output_type": "display_data"
    },
    {
     "name": "stdout",
     "output_type": "stream",
     "text": [
      "level 1: [+19,+19] d1 D7\n",
      "level 2: [+19,+19] d2 D7\n",
      "level 3: [+19,+19] d3 D7\n",
      "level 4: [+17,+17] d4 H7\n",
      "level 5: [+19,+19] d5 H7\n",
      "level 6: [+19,+19] d6 H7\n",
      "level 7: [+19,+19] d7 H7\n",
      "level 8: [+17,+17] d8 H7\n",
      "level 9: [+17,+17] d9 H7\n",
      "level 10: [+15,+15] d10 H7\n",
      "level 11: [+18,+18] d11@1.1σ D7\n",
      "level 12: [+20,+20] d12@1.1σ H7\n",
      "level 13: [+22,+22] d27@1.5σ D7\n",
      "level 14: [+22,+22] d27@1.5σ D7\n"
     ]
    }
   ],
   "source": [
    "# Loading a position from a file and solving it.\n",
    "# Uses display() to show the position.\n",
    "fforum_61 = read_file(r'data\\fforum-60-79.pos')[2]\n",
    "display(png(fforum_61.pos))\n",
    "for level in range(1, 15):\n",
    "    edax = Edax(edax_location, level=level)\n",
    "    result = edax.solve(fforum_61.pos)\n",
    "    print(f\"level {level}: {result}\")\n"
   ]
  }
 ],
 "metadata": {
  "kernelspec": {
   "display_name": "Python 3 (ipykernel)",
   "language": "python",
   "name": "python3"
  },
  "language_info": {
   "codemirror_mode": {
    "name": "ipython",
    "version": 3
   },
   "file_extension": ".py",
   "mimetype": "text/x-python",
   "name": "python",
   "nbconvert_exporter": "python",
   "pygments_lexer": "ipython3",
   "version": "3.10.0"
  }
 },
 "nbformat": 4,
 "nbformat_minor": 5
}
